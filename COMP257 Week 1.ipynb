{
 "cells": [
  {
   "cell_type": "markdown",
   "metadata": {},
   "source": [
    "# COMP257/ITEC649 Week 1 Practical"
   ]
  },
  {
   "cell_type": "markdown",
   "metadata": {},
   "source": [
    "The goal of this week's practical is to get you started using Python, Jupyter Notebooks, and Git, three tools that you will use through the semester in your work.  \n",
    "\n",
    "**Python** is our language of choice in COMP257/ITEC657.  You may have seen it before if you did COMP249. If not, you need to learn basic Python coding.\n",
    "\n",
    "You are looking at a **Jupyter Notebook**, it is a document that mixes text, code and the output of the code.   A lot of your work will be creating notebooks like this to present your analysis.  \n",
    "\n",
    "**Git** is a distributed version control system (DVCS), you will use it to keep track of your work and ensure that you have a backup copy of what you are doing.  You should have checked this notebook out of **Github** using Git. Your task this week is to complete some programming work in this worksheet and commit your changes to your own Bitbucket repository."
   ]
  },
  {
   "cell_type": "markdown",
   "metadata": {},
   "source": [
    "## Python Basics"
   ]
  },
  {
   "cell_type": "markdown",
   "metadata": {},
   "source": [
    "Your task this week is to complete some basic programming tasks with Python in this worksheet.  There are questions below with a space for you to write code to achieve the given outcomes. Write the code, test it, and when you are done, submit your work as described at the end of the notebook. \n",
    "\n",
    "The tasks aren't meant to be complicated Python problems, just some simple tasks to get you started with this process.  \n",
    "\n",
    "## String Manipulation\n",
    "\n",
    "The next cell defines three strings that you will use in the first group of questions. Note that the first uses single quotes, the second uses double quotes and the third uses three double quotes since it includes newline characters.  These are all valid ways of writing strings in Python and are equivalent."
   ]
  },
  {
   "cell_type": "code",
   "execution_count": 2,
   "metadata": {},
   "outputs": [],
   "source": [
    "title = 'Data Science'\n",
    "code = \"COMP257\"\n",
    "description = \"\"\"This unit introduces students to the fundamental techniques and \n",
    "tools of data science, such as the graphical display of data, \n",
    "predictive models, evaluation methodologies, regression, \n",
    "classification and clustering. The unit provides practical \n",
    "experience applying these methods using industry-standard \n",
    "software tools to real-world data sets. Students who have \n",
    "completed this unit will be able to identify which data \n",
    "science methods are most appropriate for a real-world data \n",
    "set, apply these methods to the data set, and interpret the \n",
    "results of the analysis they have performed. \"\"\"\n"
   ]
  },
  {
   "cell_type": "markdown",
   "metadata": {},
   "source": [
    "Write code to print the length of these strings."
   ]
  },
  {
   "cell_type": "code",
   "execution_count": 4,
   "metadata": {},
   "outputs": [
    {
     "name": "stdout",
     "output_type": "stream",
     "text": [
      "12\n",
      "7\n",
      "587\n"
     ]
    }
   ],
   "source": [
    "print(len(title))\n",
    "print(len(code))\n",
    "print(len(description))"
   ]
  },
  {
   "cell_type": "markdown",
   "metadata": {},
   "source": [
    "Write code to create a new string in a variable 'summary' that contains the code, title and the first 20 characters of the description, with a ':' character between each one (ie 'COMP249-Data Science-This unit...'"
   ]
  },
  {
   "cell_type": "code",
   "execution_count": 92,
   "metadata": {},
   "outputs": [
    {
     "name": "stdout",
     "output_type": "stream",
     "text": [
      "Data Science: COMP257: This unit introduces\n",
      "Data Science: COMP257: This unit introduces\n",
      "Data Science: COMP257: This unit introduces\n"
     ]
    },
    {
     "data": {
      "text/plain": [
       "['Data Science', ' COMP257', ' This unit introduces']"
      ]
     },
     "execution_count": 92,
     "metadata": {},
     "output_type": "execute_result"
    }
   ],
   "source": [
    "summary = title + \": \" + code + \": \" + description[:20]\n",
    "another_summary = \"{}: {}: {}\".format(title, code, description[:20])\n",
    "another_summary_2 = f\"{title}: {code}: {description[:20]}\"\n",
    "print(summary)\n",
    "print(another_summary)\n",
    "print(another_summary_2)\n",
    "\n",
    "summary.split(':')"
   ]
  },
  {
   "cell_type": "markdown",
   "metadata": {},
   "source": [
    "Write code to find the number of words in the description.  Hint, this is easy in Python since strings support the [split method](https://docs.python.org/3.6/library/stdtypes.html#str.split) that returns a list of strings after splitting on whitespace (or another character if you wish).   Try split on the string, then find out how many strings are in the resulting list."
   ]
  },
  {
   "cell_type": "code",
   "execution_count": 107,
   "metadata": {},
   "outputs": [
    {
     "name": "stdout",
     "output_type": "stream",
     "text": [
      "['This', 'unit', 'introduces', 'students', 'to', 'the', 'fundamental', 'techniques', 'and', 'tools', 'of', 'data', 'science,', 'such', 'as', 'the', 'graphical', 'display', 'of', 'data,', 'predictive', 'models,', 'evaluation', 'methodologies,', 'regression,', 'classification', 'and', 'clustering.', 'The', 'unit', 'provides', 'practical', 'experience', 'applying', 'these', 'methods', 'using', 'industry-standard', 'software', 'tools', 'to', 'real-world', 'data', 'sets.', 'Students', 'who', 'have', 'completed', 'this', 'unit', 'will', 'be', 'able', 'to', 'identify', 'which', 'data', 'science', 'methods', 'are', 'most', 'appropriate', 'for', 'a', 'real-world', 'data', 'set,', 'apply', 'these', 'methods', 'to', 'the', 'data', 'set,', 'and', 'interpret', 'the', 'results', 'of', 'the', 'analysis', 'they', 'have', 'performed.']\n",
      "84\n"
     ]
    }
   ],
   "source": [
    "s = description.split()\n",
    "\n",
    "print(s)\n",
    "print(len(s))"
   ]
  },
  {
   "cell_type": "markdown",
   "metadata": {},
   "source": [
    "# Control Structures\n",
    "\n",
    "Here you will explore Python control structures - conditionals and loops.  \n",
    "\n",
    "Write a for loop over the words in the description and count how many times the word 'unit' occurs.  Your solution will have an if statement inside the for loop.\n",
    "\n",
    "Here you will encounter Python's required indentation for the first time. This will annoy you at first but you will learn to either love it or hate it with time..."
   ]
  },
  {
   "cell_type": "code",
   "execution_count": 108,
   "metadata": {},
   "outputs": [
    {
     "name": "stdout",
     "output_type": "stream",
     "text": [
      "3\n",
      "3\n"
     ]
    }
   ],
   "source": [
    "count = 0\n",
    "\n",
    "for x in s:\n",
    "    if x == \"unit\":\n",
    "        count+=1\n",
    "print(count)\n",
    "\n",
    "print(s.count(\"unit\"))"
   ]
  },
  {
   "cell_type": "code",
   "execution_count": 115,
   "metadata": {},
   "outputs": [
    {
     "name": "stdout",
     "output_type": "stream",
     "text": [
      "The word unit occurs 3 times in description\n"
     ]
    }
   ],
   "source": [
    "count = 0 \n",
    "for word in description.split():\n",
    "    if word == 'unit':\n",
    "        count +=1\n",
    "print('The word unit occurs {} times in description'.format(count))"
   ]
  },
  {
   "cell_type": "markdown",
   "metadata": {},
   "source": [
    "You can iterate over any sequence with a for loop, including the characters in a string.  Write a for loop over the characters in the description that prints out 'Comma!' every time it sees a comma."
   ]
  },
  {
   "cell_type": "code",
   "execution_count": 119,
   "metadata": {},
   "outputs": [
    {
     "name": "stdout",
     "output_type": "stream",
     "text": [
      "Comma!\n",
      "Comma!\n",
      "Comma!\n",
      "Comma!\n",
      "Comma!\n",
      "Comma!\n",
      "Comma!\n"
     ]
    }
   ],
   "source": [
    "for x in s:\n",
    "    for w in x:\n",
    "        if w == \",\":\n",
    "            print('Comma!')"
   ]
  },
  {
   "cell_type": "code",
   "execution_count": 129,
   "metadata": {},
   "outputs": [
    {
     "name": "stdout",
     "output_type": "stream",
     "text": [
      "Comma!\n",
      "Comma!\n",
      "Comma!\n",
      "Comma!\n",
      "Comma!\n",
      "Comma!\n",
      "Comma!\n"
     ]
    }
   ],
   "source": [
    "for char in description:\n",
    "    if char == \",\":\n",
    "        print(\"Comma!\")"
   ]
  },
  {
   "cell_type": "markdown",
   "metadata": {},
   "source": [
    "## Functions\n",
    "\n",
    "Python is a dynamically typed language so we don't need to declare the type of a variable or declare the return type of a function (although Python 3 introduced optional [type hints](https://stackoverflow.com/documentation/python/1766/type-hints#t=201607251908319482596)).  Apart from that the idea of writing a function in Python is the same as in Processing or (methods in) Java.\n",
    "\n",
    "Write a function that takes a single string argument and returns the number of words in the string using the code you wrote above to count words."
   ]
  },
  {
   "cell_type": "code",
   "execution_count": 132,
   "metadata": {},
   "outputs": [],
   "source": [
    "def numberOfwords(word):\n",
    "    w = word.split()\n",
    "    return len(w)\n",
    "    "
   ]
  },
  {
   "cell_type": "markdown",
   "metadata": {},
   "source": [
    "Use your function to find the number of words in the description string defined above."
   ]
  },
  {
   "cell_type": "code",
   "execution_count": 136,
   "metadata": {},
   "outputs": [
    {
     "data": {
      "text/plain": [
       "84"
      ]
     },
     "execution_count": 136,
     "metadata": {},
     "output_type": "execute_result"
    }
   ],
   "source": [
    "numberOfwords(description)"
   ]
  },
  {
   "cell_type": "markdown",
   "metadata": {},
   "source": [
    "## Data and Plotting\n",
    "\n",
    "Just to give you a taste of some of the capabilities of Jupyter notebooks and Python we will look at a very simple example of data handling and plotting.  First I'll import some libraries that will allow us to do this: `pandas` handles data and `matplotlib` does the plotting."
   ]
  },
  {
   "cell_type": "code",
   "execution_count": 137,
   "metadata": {},
   "outputs": [],
   "source": [
    "import pandas as pd\n",
    "import matplotlib.pyplot as plt\n",
    "% matplotlib inline"
   ]
  },
  {
   "cell_type": "markdown",
   "metadata": {},
   "source": [
    "Now I will define a data frame with some data about the number of students in this unit and the pass and fale rate.  This is like an array but can do a lot more. The last line in the cell evaluates the data frame so that it gets displayed. Notice that this year noone has failed - let's keep it that way!"
   ]
  },
  {
   "cell_type": "code",
   "execution_count": 55,
   "metadata": {},
   "outputs": [
    {
     "data": {
      "text/html": [
       "<div>\n",
       "<style scoped>\n",
       "    .dataframe tbody tr th:only-of-type {\n",
       "        vertical-align: middle;\n",
       "    }\n",
       "\n",
       "    .dataframe tbody tr th {\n",
       "        vertical-align: top;\n",
       "    }\n",
       "\n",
       "    .dataframe thead th {\n",
       "        text-align: right;\n",
       "    }\n",
       "</style>\n",
       "<table border=\"1\" class=\"dataframe\">\n",
       "  <thead>\n",
       "    <tr style=\"text-align: right;\">\n",
       "      <th></th>\n",
       "      <th>fail</th>\n",
       "      <th>pass</th>\n",
       "      <th>students</th>\n",
       "      <th>year</th>\n",
       "    </tr>\n",
       "  </thead>\n",
       "  <tbody>\n",
       "    <tr>\n",
       "      <th>0</th>\n",
       "      <td>6</td>\n",
       "      <td>32</td>\n",
       "      <td>38</td>\n",
       "      <td>2017</td>\n",
       "    </tr>\n",
       "    <tr>\n",
       "      <th>1</th>\n",
       "      <td>14</td>\n",
       "      <td>50</td>\n",
       "      <td>64</td>\n",
       "      <td>2018</td>\n",
       "    </tr>\n",
       "    <tr>\n",
       "      <th>2</th>\n",
       "      <td>0</td>\n",
       "      <td>247</td>\n",
       "      <td>247</td>\n",
       "      <td>2019</td>\n",
       "    </tr>\n",
       "  </tbody>\n",
       "</table>\n",
       "</div>"
      ],
      "text/plain": [
       "   fail  pass  students  year\n",
       "0     6    32        38  2017\n",
       "1    14    50        64  2018\n",
       "2     0   247       247  2019"
      ]
     },
     "execution_count": 55,
     "metadata": {},
     "output_type": "execute_result"
    }
   ],
   "source": [
    "classdata = pd.DataFrame({\n",
    "    'year': [2017, 2018, 2019],\n",
    "    'students': [38, 64, 247],\n",
    "    'pass': [32, 50, 247],\n",
    "    'fail': [6, 14, 0]\n",
    "})\n",
    "classdata"
   ]
  },
  {
   "cell_type": "markdown",
   "metadata": {},
   "source": [
    "Now we will create a simple plot."
   ]
  },
  {
   "cell_type": "code",
   "execution_count": 56,
   "metadata": {},
   "outputs": [
    {
     "data": {
      "text/plain": [
       "<matplotlib.axes._subplots.AxesSubplot at 0x10ff0ac50>"
      ]
     },
     "execution_count": 56,
     "metadata": {},
     "output_type": "execute_result"
    },
    {
     "data": {
      "image/png": "[encoded data removed]",
      "text/plain": [
       "<matplotlib.figure.Figure at 0x10ca6ceb8>"
      ]
     },
     "metadata": {},
     "output_type": "display_data"
    }
   ],
   "source": [
    "classdata.plot(kind='bar', x='year', y='students')"
   ]
  },
  {
   "cell_type": "markdown",
   "metadata": {},
   "source": [
    "Experiment a little with this to try other options. Look at [the documentation](https://pandas.pydata.org/pandas-docs/stable/user_guide/visualization.html) for an idea. For example, can you make a line plot rather than a bar plot? Can you plot the other columns."
   ]
  },
  {
   "cell_type": "code",
   "execution_count": 118,
   "metadata": {},
   "outputs": [
    {
     "data": {
      "text/plain": [
       "<matplotlib.axes._subplots.AxesSubplot at 0x11b71a240>"
      ]
     },
     "execution_count": 118,
     "metadata": {},
     "output_type": "execute_result"
    },
    {
     "data": {
      "image/png": "[encoded data removed]",
      "text/plain": [
       "<matplotlib.figure.Figure at 0x11aa06208>"
      ]
     },
     "metadata": {},
     "output_type": "display_data"
    }
   ],
   "source": [
    "classdata.plot(kind='line', x='year', y='students')"
   ]
  },
  {
   "cell_type": "code",
   "execution_count": 117,
   "metadata": {},
   "outputs": [
    {
     "data": {
      "text/plain": [
       "<matplotlib.axes._subplots.AxesSubplot at 0x11b61c5c0>"
      ]
     },
     "execution_count": 117,
     "metadata": {},
     "output_type": "execute_result"
    },
    {
     "data": {
      "image/png": "[encoded data removed]",
      "text/plain": [
       "<matplotlib.figure.Figure at 0x11b5f5e80>"
      ]
     },
     "metadata": {},
     "output_type": "display_data"
    }
   ],
   "source": [
    "classdata.plot.bar(x='year')"
   ]
  },
  {
   "cell_type": "markdown",
   "metadata": {},
   "source": [
    "Next we will add a new column, calculated from the pass and students columns to hold the percentage pass rate.  This shows how we can do calculations over the entire array of data using `pandas`.  "
   ]
  },
  {
   "cell_type": "code",
   "execution_count": 59,
   "metadata": {},
   "outputs": [
    {
     "data": {
      "text/html": [
       "<div>\n",
       "<style scoped>\n",
       "    .dataframe tbody tr th:only-of-type {\n",
       "        vertical-align: middle;\n",
       "    }\n",
       "\n",
       "    .dataframe tbody tr th {\n",
       "        vertical-align: top;\n",
       "    }\n",
       "\n",
       "    .dataframe thead th {\n",
       "        text-align: right;\n",
       "    }\n",
       "</style>\n",
       "<table border=\"1\" class=\"dataframe\">\n",
       "  <thead>\n",
       "    <tr style=\"text-align: right;\">\n",
       "      <th></th>\n",
       "      <th>fail</th>\n",
       "      <th>pass</th>\n",
       "      <th>students</th>\n",
       "      <th>year</th>\n",
       "      <th>passrate</th>\n",
       "    </tr>\n",
       "  </thead>\n",
       "  <tbody>\n",
       "    <tr>\n",
       "      <th>0</th>\n",
       "      <td>6</td>\n",
       "      <td>32</td>\n",
       "      <td>38</td>\n",
       "      <td>2017</td>\n",
       "      <td>84.210526</td>\n",
       "    </tr>\n",
       "    <tr>\n",
       "      <th>1</th>\n",
       "      <td>14</td>\n",
       "      <td>50</td>\n",
       "      <td>64</td>\n",
       "      <td>2018</td>\n",
       "      <td>78.125000</td>\n",
       "    </tr>\n",
       "    <tr>\n",
       "      <th>2</th>\n",
       "      <td>0</td>\n",
       "      <td>247</td>\n",
       "      <td>247</td>\n",
       "      <td>2019</td>\n",
       "      <td>100.000000</td>\n",
       "    </tr>\n",
       "  </tbody>\n",
       "</table>\n",
       "</div>"
      ],
      "text/plain": [
       "   fail  pass  students  year    passrate\n",
       "0     6    32        38  2017   84.210526\n",
       "1    14    50        64  2018   78.125000\n",
       "2     0   247       247  2019  100.000000"
      ]
     },
     "execution_count": 59,
     "metadata": {},
     "output_type": "execute_result"
    }
   ],
   "source": [
    "classdata['passrate'] = 100*classdata['pass']/classdata['students']\n",
    "classdata"
   ]
  },
  {
   "cell_type": "markdown",
   "metadata": {},
   "source": [
    "Now create a new plot showing the change in percentage pass rate over the three years."
   ]
  },
  {
   "cell_type": "code",
   "execution_count": 122,
   "metadata": {},
   "outputs": [
    {
     "data": {
      "text/plain": [
       "<matplotlib.axes._subplots.AxesSubplot at 0x11b93f1d0>"
      ]
     },
     "execution_count": 122,
     "metadata": {},
     "output_type": "execute_result"
    },
    {
     "data": {
      "image/png": "[encoded data removed]",
      "text/plain": [
       "<matplotlib.figure.Figure at 0x11b959470>"
      ]
     },
     "metadata": {},
     "output_type": "display_data"
    }
   ],
   "source": [
    "classdata.plot.bar(x='year', y ='passrate')"
   ]
  },
  {
   "cell_type": "markdown",
   "metadata": {},
   "source": [
    "## Checkpoint\n",
    "\n",
    "You got your copy of this notebook by forking and then cloning my Github repository.  Now that you have made some changes you should commit your work with a suitable commit message and push your changes back to your Github repository.  Show your tutor your updated Github repository to get your checkpoint mark."
   ]
  }
 ],
 "metadata": {
  "kernelspec": {
   "display_name": "Python 3",
   "language": "python",
   "name": "python3"
  },
  "language_info": {
   "codemirror_mode": {
    "name": "ipython",
    "version": 3
   },
   "file_extension": ".py",
   "mimetype": "text/x-python",
   "name": "python",
   "nbconvert_exporter": "python",
   "pygments_lexer": "ipython3",
   "version": "3.6.4"
  }
 },
 "nbformat": 4,
 "nbformat_minor": 2
}
